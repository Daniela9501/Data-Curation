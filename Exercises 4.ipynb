{
 "cells": [
  {
   "attachments": {},
   "cell_type": "markdown",
   "id": "e29ebd36",
   "metadata": {},
   "source": [
    "# Civil War Battles!\n",
    "Create a numpy array of battle casualties from the first to the last battle:\n",
    "1245, 2732, 3853, 4824, 5292, 6184, 7282, 81393, 932\n",
    "Divide the array of battle deaths into 3 arrays - start, middle, and end of the war, each containing 3 elements. Call these arrays warStart, warMiddle and warEnd respectively.\n",
    "Change the battle death numbers from the first battle to 1405\n",
    "View that change reflected in the warStart slice\n",
    "View that change reflected in (i.e. \"broadcasted to) the original array\n"
   ]
  },
  {
   "cell_type": "code",
   "execution_count": 1,
   "id": "c14b3fb9",
   "metadata": {
    "scrolled": true
   },
   "outputs": [],
   "source": [
    "import numpy as np"
   ]
  },
  {
   "cell_type": "code",
   "execution_count": 7,
   "id": "f7b6819c",
   "metadata": {},
   "outputs": [
    {
     "data": {
      "text/plain": [
       "array([1245, 2732, 3853])"
      ]
     },
     "execution_count": 7,
     "metadata": {},
     "output_type": "execute_result"
    }
   ],
   "source": [
    "battles = [1245, 2732, 3853, 4824, 5292, 6184, 7282, 81393, 932]\n",
    "battles_casualities = np.array(battles)\n",
    "warStart = battles_casualities[0:3]\n",
    "warStart"
   ]
  },
  {
   "cell_type": "code",
   "execution_count": 13,
   "id": "22ac3af2",
   "metadata": {
    "scrolled": false
   },
   "outputs": [
    {
     "data": {
      "text/plain": [
       "array([ 1245,  2732,  3853,  4824,  5292,  6184,  7282, 81393,   932])"
      ]
     },
     "execution_count": 13,
     "metadata": {},
     "output_type": "execute_result"
    }
   ],
   "source": [
    "battles_casualities = np.array([1245, 2732, 3853, 4824, 5292, 6184, 7282, 81393, 932])\n",
    "battles_casualities"
   ]
  },
  {
   "cell_type": "code",
   "execution_count": 15,
   "id": "ebbe43c9",
   "metadata": {
    "scrolled": false
   },
   "outputs": [
    {
     "data": {
      "text/plain": [
       "array([1245, 2732, 3853])"
      ]
     },
     "execution_count": 15,
     "metadata": {},
     "output_type": "execute_result"
    }
   ],
   "source": [
    "warStart = battles_casualities[0 :3]\n",
    "warStart"
   ]
  },
  {
   "cell_type": "code",
   "execution_count": 16,
   "id": "f498101a",
   "metadata": {},
   "outputs": [
    {
     "data": {
      "text/plain": [
       "array([4824, 5292, 6184])"
      ]
     },
     "execution_count": 16,
     "metadata": {},
     "output_type": "execute_result"
    }
   ],
   "source": [
    "warMiddle = battles_casualities[3:6]\n",
    "warMiddle"
   ]
  },
  {
   "cell_type": "code",
   "execution_count": 17,
   "id": "265c6438",
   "metadata": {},
   "outputs": [
    {
     "data": {
      "text/plain": [
       "array([ 7282, 81393,   932])"
      ]
     },
     "execution_count": 17,
     "metadata": {},
     "output_type": "execute_result"
    }
   ],
   "source": [
    "warEnd = battles_casualities[6:]\n",
    "warEnd"
   ]
  },
  {
   "cell_type": "code",
   "execution_count": 19,
   "id": "34b76937",
   "metadata": {},
   "outputs": [
    {
     "data": {
      "text/plain": [
       "array([ 1405,  2732,  3853,  4824,  5292,  6184,  7282, 81393,   932])"
      ]
     },
     "execution_count": 19,
     "metadata": {},
     "output_type": "execute_result"
    }
   ],
   "source": [
    "battles_casualities[0] = 1405\n",
    "battles_casualities"
   ]
  },
  {
   "cell_type": "code",
   "execution_count": 20,
   "id": "14454df9",
   "metadata": {},
   "outputs": [
    {
     "data": {
      "text/plain": [
       "array([1405, 2732, 3853])"
      ]
     },
     "execution_count": 20,
     "metadata": {},
     "output_type": "execute_result"
    }
   ],
   "source": [
    "warStart"
   ]
  },
  {
   "attachments": {},
   "cell_type": "markdown",
   "id": "b76ce9c0",
   "metadata": {},
   "source": [
    "## Regiment Information!\n",
    "Create an array of regiment information \n",
    "regimentNames = ['Nighthawks', 'Sky Warriors', 'Rough Riders', 'New Birds’] \n",
    "regimentNumber = [1, 2, 3, 4] \n",
    "regimentSize = [1092, 2039, 3011, 4099] \n",
    "regimentCommander = ['Mitchell', 'Blackthorn', 'Baker', 'Miller’]\n",
    "regiments = np.array([regimentNames, regimentNumber, regimentSize, regimentCommander]) \n",
    "regiments\n",
    "View the first column of the matrix\n",
    "View the second row of the matrix\n",
    "View the top-right quarter of the matrix\n",
    "What is the average value of the first 2 columns of the second and third rows?\n",
    "Swap the second and third rows"
   ]
  },
  {
   "cell_type": "code",
   "execution_count": 28,
   "id": "df29fffb",
   "metadata": {},
   "outputs": [
    {
     "data": {
      "text/plain": [
       "array(['Nighthawks', 'Sky Warriors', 'Rough Riders', 'New Birds'],\n",
       "      dtype='<U12')"
      ]
     },
     "execution_count": 28,
     "metadata": {},
     "output_type": "execute_result"
    }
   ],
   "source": [
    "regimentNames = np.array(['Nighthawks', 'Sky Warriors', 'Rough Riders', 'New Birds'])\n",
    "regimentNames"
   ]
  },
  {
   "cell_type": "code",
   "execution_count": 30,
   "id": "0ec63847",
   "metadata": {},
   "outputs": [
    {
     "data": {
      "text/plain": [
       "array([1, 2, 3, 4])"
      ]
     },
     "execution_count": 30,
     "metadata": {},
     "output_type": "execute_result"
    }
   ],
   "source": [
    "regimentNumber = np.array ([1, 2, 3, 4])\n",
    "regimentNumber"
   ]
  },
  {
   "cell_type": "code",
   "execution_count": 31,
   "id": "d66070b3",
   "metadata": {},
   "outputs": [
    {
     "data": {
      "text/plain": [
       "array([['Nighthawks', 'Sky Warriors', 'Rough Riders', 'New Birds'],\n",
       "       ['1', '2', '3', '4'],\n",
       "       ['1092', '2039', '3011', '4099'],\n",
       "       ['Mitchell', 'Blackthorn', 'Baker', 'Miller']], dtype='<U12')"
      ]
     },
     "execution_count": 31,
     "metadata": {},
     "output_type": "execute_result"
    }
   ],
   "source": [
    "regimentSize = np.array([1092, 2039, 3011, 4099])\n",
    "regimentCommander = np.array(['Mitchell', 'Blackthorn', 'Baker', 'Miller'])\n",
    "regiments = np.array([regimentNames, regimentNumber, regimentSize, regimentCommander]) \n",
    "regiments\n"
   ]
  },
  {
   "cell_type": "code",
   "execution_count": 34,
   "id": "82d4eb4f",
   "metadata": {
    "scrolled": true
   },
   "outputs": [
    {
     "data": {
      "text/plain": [
       "array(['Nighthawks', '1', '1092', 'Mitchell'], dtype='<U12')"
      ]
     },
     "execution_count": 34,
     "metadata": {},
     "output_type": "execute_result"
    }
   ],
   "source": [
    "regiments_slice = regiments[:,0]\n",
    "regiments_slice"
   ]
  },
  {
   "cell_type": "code",
   "execution_count": 36,
   "id": "6acad448",
   "metadata": {},
   "outputs": [
    {
     "data": {
      "text/plain": [
       "array(['1', '2', '3', '4'], dtype='<U12')"
      ]
     },
     "execution_count": 36,
     "metadata": {},
     "output_type": "execute_result"
    }
   ],
   "source": [
    "regiments_slice = regiments[1,:]\n",
    "regiments_slice"
   ]
  },
  {
   "cell_type": "code",
   "execution_count": 37,
   "id": "56fcf76d",
   "metadata": {},
   "outputs": [
    {
     "data": {
      "text/plain": [
       "array([['Rough Riders', 'New Birds'],\n",
       "       ['3', '4']], dtype='<U12')"
      ]
     },
     "execution_count": 37,
     "metadata": {},
     "output_type": "execute_result"
    }
   ],
   "source": [
    "regiments_slice = regiments[:2,2:]\n",
    "regiments_slice"
   ]
  },
  {
   "cell_type": "code",
   "execution_count": 53,
   "id": "afd26910",
   "metadata": {
    "scrolled": true
   },
   "outputs": [
    {
     "data": {
      "text/plain": [
       "783.5"
      ]
     },
     "execution_count": 53,
     "metadata": {},
     "output_type": "execute_result"
    }
   ],
   "source": [
    "conversion = regiments[1:3,:2].astype(np.float64)\n",
    "average = np.mean(conversion)\n",
    "average"
   ]
  },
  {
   "cell_type": "code",
   "execution_count": 56,
   "id": "26bf52b6",
   "metadata": {},
   "outputs": [
    {
     "data": {
      "text/plain": [
       "array([['Nighthawks', 'Sky Warriors', 'Rough Riders', 'New Birds'],\n",
       "       ['1092', '2039', '3011', '4099'],\n",
       "       ['1', '2', '3', '4'],\n",
       "       ['Mitchell', 'Blackthorn', 'Baker', 'Miller']], dtype='<U12')"
      ]
     },
     "execution_count": 56,
     "metadata": {},
     "output_type": "execute_result"
    }
   ],
   "source": [
    "regiments[1, :], regiments[2, :] = regiments[2, :], regiments[1, :].copy()\n",
    "regiments"
   ]
  },
  {
   "attachments": {},
   "cell_type": "markdown",
   "id": "449a1747",
   "metadata": {},
   "source": [
    "## Creation!\n",
    "Create an array of the first 10 odd integers.\n",
    "Create a 10 x 10 arrays of zeros and then \"frame\" it with a border of ones.\n",
    "Create a 5x5 array with random values and find the minimum and maximum values\n",
    "Create a 3x3 identity matrix\n",
    "Create a random vector of size 30 and find the mean value \n",
    "Create a 3x3 matrix with values ranging from 0 to 8\n",
    "Create a null vector of size 10 but the fifth value which is 1"
   ]
  },
  {
   "cell_type": "code",
   "execution_count": 57,
   "id": "1d94fd12",
   "metadata": {},
   "outputs": [
    {
     "data": {
      "text/plain": [
       "array([ 1,  3,  5,  7,  9, 11, 13, 15, 17, 19])"
      ]
     },
     "execution_count": 57,
     "metadata": {},
     "output_type": "execute_result"
    }
   ],
   "source": [
    "odd_integers = np.arange(1,20,2)\n",
    "odd_integers"
   ]
  },
  {
   "cell_type": "code",
   "execution_count": 58,
   "id": "a3e81d11",
   "metadata": {},
   "outputs": [
    {
     "data": {
      "text/plain": [
       "array([[1., 1., 1., 1., 1., 1., 1., 1., 1., 1.],\n",
       "       [1., 0., 0., 0., 0., 0., 0., 0., 0., 1.],\n",
       "       [1., 0., 0., 0., 0., 0., 0., 0., 0., 1.],\n",
       "       [1., 0., 0., 0., 0., 0., 0., 0., 0., 1.],\n",
       "       [1., 0., 0., 0., 0., 0., 0., 0., 0., 1.],\n",
       "       [1., 0., 0., 0., 0., 0., 0., 0., 0., 1.],\n",
       "       [1., 0., 0., 0., 0., 0., 0., 0., 0., 1.],\n",
       "       [1., 0., 0., 0., 0., 0., 0., 0., 0., 1.],\n",
       "       [1., 0., 0., 0., 0., 0., 0., 0., 0., 1.],\n",
       "       [1., 1., 1., 1., 1., 1., 1., 1., 1., 1.]])"
      ]
     },
     "execution_count": 58,
     "metadata": {},
     "output_type": "execute_result"
    }
   ],
   "source": [
    "zeros_array = np.zeros((10,10))\n",
    "zeros_array[0,:] = 1\n",
    "zeros_array[-1,:] = 1\n",
    "zeros_array[:,0] = 1\n",
    "zeros_array[:,-1] = 1\n",
    "zeros_array"
   ]
  },
  {
   "cell_type": "code",
   "execution_count": 64,
   "id": "4c7a5579",
   "metadata": {
    "scrolled": true
   },
   "outputs": [
    {
     "data": {
      "text/plain": [
       "array([[0.4759473 , 0.76619381, 0.62430027, 0.55862271, 0.82439854],\n",
       "       [0.63443966, 0.68408811, 0.20419571, 0.36855485, 0.5810093 ],\n",
       "       [0.48049923, 0.37657944, 0.53626658, 0.55110743, 0.39377774],\n",
       "       [0.44391869, 0.00742711, 0.50694556, 0.84593072, 0.41498791],\n",
       "       [0.13256086, 0.59006035, 0.72015211, 0.12783495, 0.34173066]])"
      ]
     },
     "execution_count": 64,
     "metadata": {},
     "output_type": "execute_result"
    }
   ],
   "source": [
    "random_array = np.random.rand(5, 5)\n",
    "min = np.min(random_array)\n",
    "max = np.max(random_array)\n",
    "random_array"
   ]
  },
  {
   "cell_type": "code",
   "execution_count": 62,
   "id": "28283ae1",
   "metadata": {},
   "outputs": [
    {
     "data": {
      "text/plain": [
       "0.04947456151700669"
      ]
     },
     "execution_count": 62,
     "metadata": {},
     "output_type": "execute_result"
    }
   ],
   "source": [
    "min"
   ]
  },
  {
   "cell_type": "code",
   "execution_count": 63,
   "id": "18acd37f",
   "metadata": {},
   "outputs": [
    {
     "data": {
      "text/plain": [
       "0.9696137275808697"
      ]
     },
     "execution_count": 63,
     "metadata": {},
     "output_type": "execute_result"
    }
   ],
   "source": [
    "max"
   ]
  },
  {
   "cell_type": "code",
   "execution_count": 68,
   "id": "25a338c0",
   "metadata": {
    "scrolled": false
   },
   "outputs": [
    {
     "data": {
      "text/plain": [
       "array([[1., 0., 0., 0., 0.],\n",
       "       [0., 1., 0., 0., 0.],\n",
       "       [0., 0., 1., 0., 0.],\n",
       "       [0., 0., 0., 1., 0.],\n",
       "       [0., 0., 0., 0., 1.]])"
      ]
     },
     "execution_count": 68,
     "metadata": {},
     "output_type": "execute_result"
    }
   ],
   "source": [
    "identity_matrix = np.eye(5)\n",
    "identity_matrix"
   ]
  },
  {
   "cell_type": "code",
   "execution_count": 70,
   "id": "829b027f",
   "metadata": {},
   "outputs": [
    {
     "data": {
      "text/plain": [
       "array([0.49021188, 0.11189529, 0.59929734, 0.5836401 , 0.18002069,\n",
       "       0.19815205, 0.94764725, 0.46379568, 0.57848415, 0.15811978,\n",
       "       0.7777543 , 0.25602351, 0.16020377, 0.11805509, 0.56500172,\n",
       "       0.40095009, 0.88783585, 0.14874019, 0.358847  , 0.43498686,\n",
       "       0.24050885, 0.27927366, 0.52672747, 0.26599033, 0.33308468,\n",
       "       0.15196961, 0.34334341, 0.72178578, 0.30372574, 0.90978273])"
      ]
     },
     "execution_count": 70,
     "metadata": {},
     "output_type": "execute_result"
    }
   ],
   "source": [
    "random_vector = np.random.rand(30)\n",
    "random_vector\n"
   ]
  },
  {
   "cell_type": "code",
   "execution_count": 71,
   "id": "289cf82c",
   "metadata": {},
   "outputs": [
    {
     "data": {
      "text/plain": [
       "0.4165284949464643"
      ]
     },
     "execution_count": 71,
     "metadata": {},
     "output_type": "execute_result"
    }
   ],
   "source": [
    "np.mean(random_vector)"
   ]
  },
  {
   "cell_type": "code",
   "execution_count": 72,
   "id": "d28356c7",
   "metadata": {},
   "outputs": [
    {
     "data": {
      "text/plain": [
       "array([[0, 1, 2],\n",
       "       [3, 4, 5],\n",
       "       [6, 7, 8]])"
      ]
     },
     "execution_count": 72,
     "metadata": {},
     "output_type": "execute_result"
    }
   ],
   "source": [
    "matrix_range = np.arange(9).reshape(3, 3)\n",
    "matrix_range"
   ]
  },
  {
   "cell_type": "code",
   "execution_count": 73,
   "id": "8b7c7b56",
   "metadata": {
    "scrolled": true
   },
   "outputs": [
    {
     "data": {
      "text/plain": [
       "array([0., 0., 0., 0., 1., 0., 0., 0., 0., 0.])"
      ]
     },
     "execution_count": 73,
     "metadata": {},
     "output_type": "execute_result"
    }
   ],
   "source": [
    "null_vector = np.zeros(10)\n",
    "null_vector[4] = 1\n",
    "null_vector"
   ]
  },
  {
   "attachments": {},
   "cell_type": "markdown",
   "id": "580d4c41",
   "metadata": {},
   "source": [
    "## Sorting!\n",
    "Find the k smallest values of a NumPy array\n",
    "Create a random vector of size 10 and sort it"
   ]
  },
  {
   "cell_type": "code",
   "execution_count": 75,
   "id": "2a64fe34",
   "metadata": {
    "scrolled": false
   },
   "outputs": [
    {
     "data": {
      "text/plain": [
       "array([0.57234176, 0.79121754, 0.63564208, 0.71484869, 0.18398729,\n",
       "       0.13632652, 0.78601226, 0.3280736 , 0.7724453 , 0.96980384])"
      ]
     },
     "execution_count": 75,
     "metadata": {},
     "output_type": "execute_result"
    }
   ],
   "source": [
    "random = np.random.rand(10)\n",
    "random"
   ]
  },
  {
   "cell_type": "code",
   "execution_count": 76,
   "id": "5abbb117",
   "metadata": {
    "scrolled": true
   },
   "outputs": [
    {
     "data": {
      "text/plain": [
       "array([0.13632652, 0.18398729, 0.3280736 , 0.57234176, 0.63564208,\n",
       "       0.71484869, 0.7724453 , 0.78601226, 0.79121754, 0.96980384])"
      ]
     },
     "execution_count": 76,
     "metadata": {},
     "output_type": "execute_result"
    }
   ],
   "source": [
    "sorted_vector = np.sort(random)\n",
    "sorted_vector"
   ]
  },
  {
   "cell_type": "code",
   "execution_count": 77,
   "id": "c564f1e9",
   "metadata": {},
   "outputs": [
    {
     "data": {
      "text/plain": [
       "array([0.13632652, 0.18398729, 0.3280736 ])"
      ]
     },
     "execution_count": 77,
     "metadata": {},
     "output_type": "execute_result"
    }
   ],
   "source": [
    "k = 3\n",
    "k_smallest_values = sorted_vector[:k]\n",
    "k_smallest_values\n"
   ]
  },
  {
   "attachments": {},
   "cell_type": "markdown",
   "id": "05c14ab1",
   "metadata": {},
   "source": [
    "What is the correct syntax for printing the number 50 from the array?!\n",
    "arr = np.array([[10, 20, 30, 40], [50, 60, 70, 80]])"
   ]
  },
  {
   "cell_type": "code",
   "execution_count": 79,
   "id": "5a3f4500",
   "metadata": {},
   "outputs": [
    {
     "data": {
      "text/plain": [
       "50"
      ]
     },
     "execution_count": 79,
     "metadata": {},
     "output_type": "execute_result"
    }
   ],
   "source": [
    "arr = np.array([[10, 20, 30, 40], [50, 60, 70, 80]])\n",
    "arr[1,0]"
   ]
  },
  {
   "attachments": {},
   "cell_type": "markdown",
   "id": "021ea92b",
   "metadata": {},
   "source": [
    "## Slicing!\n",
    "Insert the correct slicing syntax to print the following selection of the array:\u000b",
    "\u000b",
    "Every other item from (including) the second item to (not including) the fifth item.\n",
    "\n",
    "arr = np.array([10, 15, 20, 25, 30, 35, 40])"
   ]
  },
  {
   "cell_type": "code",
   "execution_count": 80,
   "id": "89027f36",
   "metadata": {},
   "outputs": [
    {
     "data": {
      "text/plain": [
       "array([15, 25])"
      ]
     },
     "execution_count": 80,
     "metadata": {},
     "output_type": "execute_result"
    }
   ],
   "source": [
    "arr = np.array([10, 15, 20, 25, 30, 35, 40])\n",
    "arr[1:5:2]"
   ]
  }
 ],
 "metadata": {
  "kernelspec": {
   "display_name": "Python 3 (ipykernel)",
   "language": "python",
   "name": "python3"
  },
  "language_info": {
   "codemirror_mode": {
    "name": "ipython",
    "version": 3
   },
   "file_extension": ".py",
   "mimetype": "text/x-python",
   "name": "python",
   "nbconvert_exporter": "python",
   "pygments_lexer": "ipython3",
   "version": "3.11.5"
  }
 },
 "nbformat": 4,
 "nbformat_minor": 5
}
