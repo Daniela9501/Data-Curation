{
 "cells": [
  {
   "cell_type": "markdown",
   "id": "33256dc1",
   "metadata": {},
   "source": [
    "# EXERCISES\n",
    "Exercise #1 \n",
    "Write a program to find the item with maximum occurrences in a\n",
    "given list.\n",
    "• Example list: [2, 3, 8, 4, 7, 9, 8, 2, 6, 5, 1, 6, 1, 2, 3, 4, 6, 9, 1, 2]\n",
    "• Item with maximum occurrences of the said list: 2"
   ]
  },
  {
   "cell_type": "code",
   "execution_count": 47,
   "id": "6a7d91f1",
   "metadata": {},
   "outputs": [
    {
     "ename": "SyntaxError",
     "evalue": "invalid syntax (175681884.py, line 1)",
     "output_type": "error",
     "traceback": [
      "\u001b[1;36m  Cell \u001b[1;32mIn[47], line 1\u001b[1;36m\u001b[0m\n\u001b[1;33m    curl https://bootstrap.pypa.io/get-pip.py -o get-pip.py\u001b[0m\n\u001b[1;37m         ^\u001b[0m\n\u001b[1;31mSyntaxError\u001b[0m\u001b[1;31m:\u001b[0m invalid syntax\n"
     ]
    }
   ],
   "source": [
    "curl https://bootstrap.pypa.io/get-pip.py -o get-pip.py\n",
    "    "
   ]
  },
  {
   "cell_type": "code",
   "execution_count": 48,
   "id": "880b1eb2",
   "metadata": {},
   "outputs": [
    {
     "name": "stdout",
     "output_type": "stream",
     "text": [
      "1\n"
     ]
    }
   ],
   "source": [
    "nums = [2, 3, 8, 4, 7, 9, 8, 2, 6, 5, 1, 6, 1, 2, 3, 4, 1, 1, 1, 2]\n",
    "\n",
    "def max_ocurrences(nums):\n",
    "    max_value = 0\n",
    "    result = nums[0]\n",
    "    \n",
    "    for i in range(0, len(nums)):\n",
    "        occu = nums.count(i)\n",
    "        \n",
    "        if occu > max_value:\n",
    "            max_value = occu\n",
    "            result = i\n",
    "\n",
    "    return result\n",
    "\n",
    "print(max_ocurrences(nums))\n",
    "    \n",
    "        "
   ]
  },
  {
   "cell_type": "markdown",
   "id": "2fdf6945",
   "metadata": {},
   "source": [
    "Write a program to find the indexes of all None items in a given list.\n",
    "• Example list: [1, None, 5, 4, None, 0, None, None]\n",
    "• Indexes of all None items of the list: [1, 4, 6, 7]\n"
   ]
  },
  {
   "cell_type": "code",
   "execution_count": 21,
   "id": "cb34ee47",
   "metadata": {
    "scrolled": true
   },
   "outputs": [
    {
     "name": "stdout",
     "output_type": "stream",
     "text": [
      "[1, 4, 6, 7]\n"
     ]
    }
   ],
   "source": [
    "a =  [1, None, 5, 4, None, 0, None, None] \n",
    "b = []\n",
    "\n",
    "def indexes(a):\n",
    "    for i in range(len(a)):\n",
    "        if a[i] == None:\n",
    "            b.append(i)\n",
    "    return b\n",
    "\n",
    "print(indexes(a))"
   ]
  },
  {
   "cell_type": "markdown",
   "id": "d09b316f",
   "metadata": {},
   "source": [
    "Write a Python program to filter a dictionary based on values.\n",
    "• Original Dictionary:\n",
    "{'Cierra Vega': 175, 'Alden Cantrell': 180, 'Kierra Gentry': 165, 'Pierre Cox':\n",
    "190}\n",
    "• Marks greater than 170:\n",
    "{'Cierra Vega': 175, 'Alden Cantrell': 180, 'Pierre Cox': 190}\n"
   ]
  },
  {
   "cell_type": "code",
   "execution_count": 23,
   "id": "f2d6430d",
   "metadata": {},
   "outputs": [
    {
     "name": "stdout",
     "output_type": "stream",
     "text": [
      "{'Cierra Vega': 175, 'Alden Cantrell': 180, 'Pierre Cox': 190}\n"
     ]
    }
   ],
   "source": [
    "my_dict = {'Cierra Vega': 175, 'Alden Cantrell': 180, 'Kierra Gentry': 165, 'Pierre Cox': 190}\n",
    "\n",
    "result = {key: value for (key, value) in my_dict.items() if value >= 170}\n",
    "\n",
    "print(result)"
   ]
  },
  {
   "cell_type": "markdown",
   "id": "214542ef",
   "metadata": {},
   "source": [
    "Write a Python program to convert two lists to list of dictionaries.\n",
    "• Example Input: [\"Black\", \"Red\", \"Maroon\", \"Yellow\"], [\"#000000\", \"#FF0000\",\n",
    "\"#800000\", \"#FFFF00\"]\n",
    "• Expected Output: [{'color_name': 'Black', 'color_code': '#000000'},\n",
    "{'color_name': 'Red', 'color_code': '#FF0000'}, {'color_name': 'Maroon',\n",
    "'color_code': '#800000'}, {'color_name': 'Yellow', 'color_code': '#FFFF00'}]\n"
   ]
  },
  {
   "cell_type": "code",
   "execution_count": 25,
   "id": "b17c7ae6",
   "metadata": {
    "scrolled": true
   },
   "outputs": [
    {
     "name": "stdout",
     "output_type": "stream",
     "text": [
      "[{'color_name': 'Black', 'color_code': '#000000'}, {'color_name': 'Red', 'color_code': '#FF0000'}, {'color_name': 'Maroon', 'color_code': '#800000'}, {'color_name': 'Yellow', 'color_code': '#FFFF00'}]\n"
     ]
    }
   ],
   "source": [
    "color_name = [\"Black\", \"Red\", \"Maroon\", \"Yellow\"]\n",
    "color_code = [\"#000000\", \"#FF0000\", \"#800000\", \"#FFFF00\"]\n",
    "\n",
    "result = [{'color_name': a, 'color_code': b} for a, b in zip(color_name, color_code)]\n",
    "\n",
    "print(result)\n"
   ]
  },
  {
   "cell_type": "markdown",
   "id": "4c0a9746",
   "metadata": {},
   "source": [
    "Write a Python program to convert a tuple of string values to a tuple\n",
    "of integer values.\n",
    "• Original tuple values:\n",
    "(('333', '33'), ('1416', '55’))\n",
    "• New tuple values:\n",
    "((333, 33), (1416, 55))\n"
   ]
  },
  {
   "cell_type": "code",
   "execution_count": 28,
   "id": "617163df",
   "metadata": {},
   "outputs": [
    {
     "name": "stdout",
     "output_type": "stream",
     "text": [
      "((333, 33), (1416, 55))\n"
     ]
    }
   ],
   "source": [
    "original_str = (('333', '33'), ('1416','55'))\n",
    "\n",
    "def convert_new(original_str):\n",
    "    result = tuple(((int(x[0]),int(x[1])) for x in original_str))\n",
    "    return result\n",
    "\n",
    "print(convert_new(original_str))"
   ]
  },
  {
   "cell_type": "markdown",
   "id": "fc7c70eb",
   "metadata": {},
   "source": [
    "Write a Python program to find the first repeated word in a given\n",
    "string.\n",
    "• Input: \"ab ca bc ab”\n",
    "• Output: “ab”\n"
   ]
  },
  {
   "cell_type": "code",
   "execution_count": 37,
   "id": "3f14e135",
   "metadata": {},
   "outputs": [
    {
     "name": "stdout",
     "output_type": "stream",
     "text": [
      "ab\n",
      "{'ab', 'ca', 'bc'}\n"
     ]
    }
   ],
   "source": [
    "input = \"ab ca bc ab\"\n",
    "temp = set()\n",
    "\n",
    "def repetition(input):\n",
    "    for word in input.split():\n",
    "        if word in temp:\n",
    "            return word\n",
    "        else:\n",
    "            temp.add(word)\n",
    "    return 'None'\n",
    "    \n",
    "print(repetition(input))\n",
    "print(temp)"
   ]
  },
  {
   "cell_type": "markdown",
   "id": "b7be78f0",
   "metadata": {},
   "source": [
    "Write a Python program to find the largest number in a list without\n",
    "using built-in functions. Also output the position of that number in\n",
    "the list\n",
    "• Input: [3,8,1,7,2,9,5,4]\n",
    "• Output: 9, 6\n"
   ]
  },
  {
   "cell_type": "code",
   "execution_count": 34,
   "id": "60d42910",
   "metadata": {},
   "outputs": [
    {
     "name": "stdout",
     "output_type": "stream",
     "text": [
      "(9, 5)\n"
     ]
    }
   ],
   "source": [
    "list_1 = [3,8,1,7,2,9,5,4]\n",
    "\n",
    "\n",
    "def max_number(list_1):\n",
    "    max_num = list_1[0]\n",
    "    position = 0\n",
    "    \n",
    "    for i in range(0, len(list_1)):\n",
    "        if list_1[i] > max_num:\n",
    "            max_num = list_1[i]\n",
    "            position = i\n",
    "        \n",
    "    return max_num, position\n",
    "\n",
    "print(max_number(list_1))\n",
    "        \n",
    "    \n",
    "    "
   ]
  }
 ],
 "metadata": {
  "kernelspec": {
   "display_name": "Python 3 (ipykernel)",
   "language": "python",
   "name": "python3"
  },
  "language_info": {
   "codemirror_mode": {
    "name": "ipython",
    "version": 3
   },
   "file_extension": ".py",
   "mimetype": "text/x-python",
   "name": "python",
   "nbconvert_exporter": "python",
   "pygments_lexer": "ipython3",
   "version": "3.11.5"
  }
 },
 "nbformat": 4,
 "nbformat_minor": 5
}
