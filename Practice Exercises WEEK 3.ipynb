{
 "cells": [
  {
   "attachments": {},
   "cell_type": "markdown",
   "id": "4dc6a43d",
   "metadata": {},
   "source": [
    "Practice Exercise \n",
    "\n",
    "Using the Reddit Comments API create a function that takes the search term, time range as the parameters and return the number of controversial comments for the given search term in the given time range. \n",
    "\n",
    "Use the boolean type ‘controversiality’ parameter in the response object to check if the comment is controversial or not. Value of 1 denotes that the comment is controversial whereas the value of 0 denotes it is not. !"
   ]
  },
  {
   "cell_type": "code",
   "execution_count": 21,
   "id": "9fab3f42",
   "metadata": {},
   "outputs": [
    {
     "name": "stdout",
     "output_type": "stream",
     "text": [
      "No comments found for the specified search term and time range.\n",
      "Number of controversial comments for 'colombia' between 2023-01-01 00:00:00 and 2023-12-31 00:00:00: 0\n"
     ]
    }
   ],
   "source": [
    "import requests\n",
    "import datetime\n",
    "\n",
    "def get_controversial_comment_count(search_term, start_time, end_time):\n",
    "    # Define the Reddit Comments API endpoint\n",
    "    url = \"https://api.pushshift.io/reddit/search/comment/\"\n",
    "\n",
    "    # Convert datetime objects to Unix timestamps\n",
    "    start_timestamp = int(start_time.timestamp())\n",
    "    end_timestamp = int(end_time.timestamp())\n",
    "\n",
    "    # Define the query parameters\n",
    "    params = {\n",
    "        \"q\": search_term,\n",
    "        \"after\": start_timestamp,\n",
    "        \"before\": end_timestamp,\n",
    "        \"size\": 1000,  # Max number of comments to retrieve per request\n",
    "        \"sort_type\": \"score\",  # Sort comments by score\n",
    "        \"sort\": \"desc\"  # Sort comments in descending order\n",
    "    }\n",
    "\n",
    "    controversial_count = 0\n",
    "\n",
    "    # Send GET request to the Reddit Comments API\n",
    "    response = requests.get(url, params=params)\n",
    "    data = response.json()\n",
    "\n",
    "    # Check if 'data' key exists in the response\n",
    "    if 'data' in data:\n",
    "        # Iterate over comments and count controversial ones\n",
    "        for comment in data['data']:\n",
    "            if comment['controversiality'] == 1:\n",
    "                controversial_count += 1\n",
    "    else:\n",
    "        print(\"No comments found for the specified search term and time range.\")\n",
    "\n",
    "    return controversial_count\n",
    "\n",
    "# Example usage:\n",
    "start_time = datetime.datetime(2023, 1, 1)  # Start of time range\n",
    "end_time = datetime.datetime(2023, 12, 31)   # End of time range\n",
    "search_term = \"colombia\"\n",
    "\n",
    "controversial_count = get_controversial_comment_count(search_term, start_time, end_time)\n",
    "print(\"Number of controversial comments for '{}' between {} and {}: {}\".format(search_term, start_time, end_time, controversial_count))\n"
   ]
  }
 ],
 "metadata": {
  "kernelspec": {
   "display_name": "Python 3 (ipykernel)",
   "language": "python",
   "name": "python3"
  },
  "language_info": {
   "codemirror_mode": {
    "name": "ipython",
    "version": 3
   },
   "file_extension": ".py",
   "mimetype": "text/x-python",
   "name": "python",
   "nbconvert_exporter": "python",
   "pygments_lexer": "ipython3",
   "version": "3.11.5"
  }
 },
 "nbformat": 4,
 "nbformat_minor": 5
}
